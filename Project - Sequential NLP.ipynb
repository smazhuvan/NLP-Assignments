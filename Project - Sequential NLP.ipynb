{
 "cells": [
  {
   "cell_type": "markdown",
   "metadata": {},
   "source": [
    "# Sentiment Classification\n"
   ]
  },
  {
   "cell_type": "code",
   "execution_count": 1,
   "metadata": {},
   "outputs": [
    {
     "name": "stderr",
     "output_type": "stream",
     "text": [
      "Using TensorFlow backend.\n",
      "C:\\Users\\smazh\\anaconda3\\lib\\site-packages\\tensorflow\\python\\framework\\dtypes.py:516: FutureWarning: Passing (type, 1) or '1type' as a synonym of type is deprecated; in a future version of numpy, it will be understood as (type, (1,)) / '(1,)type'.\n",
      "  _np_qint8 = np.dtype([(\"qint8\", np.int8, 1)])\n",
      "C:\\Users\\smazh\\anaconda3\\lib\\site-packages\\tensorflow\\python\\framework\\dtypes.py:517: FutureWarning: Passing (type, 1) or '1type' as a synonym of type is deprecated; in a future version of numpy, it will be understood as (type, (1,)) / '(1,)type'.\n",
      "  _np_quint8 = np.dtype([(\"quint8\", np.uint8, 1)])\n",
      "C:\\Users\\smazh\\anaconda3\\lib\\site-packages\\tensorflow\\python\\framework\\dtypes.py:518: FutureWarning: Passing (type, 1) or '1type' as a synonym of type is deprecated; in a future version of numpy, it will be understood as (type, (1,)) / '(1,)type'.\n",
      "  _np_qint16 = np.dtype([(\"qint16\", np.int16, 1)])\n",
      "C:\\Users\\smazh\\anaconda3\\lib\\site-packages\\tensorflow\\python\\framework\\dtypes.py:519: FutureWarning: Passing (type, 1) or '1type' as a synonym of type is deprecated; in a future version of numpy, it will be understood as (type, (1,)) / '(1,)type'.\n",
      "  _np_quint16 = np.dtype([(\"quint16\", np.uint16, 1)])\n",
      "C:\\Users\\smazh\\anaconda3\\lib\\site-packages\\tensorflow\\python\\framework\\dtypes.py:520: FutureWarning: Passing (type, 1) or '1type' as a synonym of type is deprecated; in a future version of numpy, it will be understood as (type, (1,)) / '(1,)type'.\n",
      "  _np_qint32 = np.dtype([(\"qint32\", np.int32, 1)])\n",
      "C:\\Users\\smazh\\anaconda3\\lib\\site-packages\\tensorflow\\python\\framework\\dtypes.py:525: FutureWarning: Passing (type, 1) or '1type' as a synonym of type is deprecated; in a future version of numpy, it will be understood as (type, (1,)) / '(1,)type'.\n",
      "  np_resource = np.dtype([(\"resource\", np.ubyte, 1)])\n",
      "C:\\Users\\smazh\\anaconda3\\lib\\site-packages\\tensorboard\\compat\\tensorflow_stub\\dtypes.py:541: FutureWarning: Passing (type, 1) or '1type' as a synonym of type is deprecated; in a future version of numpy, it will be understood as (type, (1,)) / '(1,)type'.\n",
      "  _np_qint8 = np.dtype([(\"qint8\", np.int8, 1)])\n",
      "C:\\Users\\smazh\\anaconda3\\lib\\site-packages\\tensorboard\\compat\\tensorflow_stub\\dtypes.py:542: FutureWarning: Passing (type, 1) or '1type' as a synonym of type is deprecated; in a future version of numpy, it will be understood as (type, (1,)) / '(1,)type'.\n",
      "  _np_quint8 = np.dtype([(\"quint8\", np.uint8, 1)])\n",
      "C:\\Users\\smazh\\anaconda3\\lib\\site-packages\\tensorboard\\compat\\tensorflow_stub\\dtypes.py:543: FutureWarning: Passing (type, 1) or '1type' as a synonym of type is deprecated; in a future version of numpy, it will be understood as (type, (1,)) / '(1,)type'.\n",
      "  _np_qint16 = np.dtype([(\"qint16\", np.int16, 1)])\n",
      "C:\\Users\\smazh\\anaconda3\\lib\\site-packages\\tensorboard\\compat\\tensorflow_stub\\dtypes.py:544: FutureWarning: Passing (type, 1) or '1type' as a synonym of type is deprecated; in a future version of numpy, it will be understood as (type, (1,)) / '(1,)type'.\n",
      "  _np_quint16 = np.dtype([(\"quint16\", np.uint16, 1)])\n",
      "C:\\Users\\smazh\\anaconda3\\lib\\site-packages\\tensorboard\\compat\\tensorflow_stub\\dtypes.py:545: FutureWarning: Passing (type, 1) or '1type' as a synonym of type is deprecated; in a future version of numpy, it will be understood as (type, (1,)) / '(1,)type'.\n",
      "  _np_qint32 = np.dtype([(\"qint32\", np.int32, 1)])\n",
      "C:\\Users\\smazh\\anaconda3\\lib\\site-packages\\tensorboard\\compat\\tensorflow_stub\\dtypes.py:550: FutureWarning: Passing (type, 1) or '1type' as a synonym of type is deprecated; in a future version of numpy, it will be understood as (type, (1,)) / '(1,)type'.\n",
      "  np_resource = np.dtype([(\"resource\", np.ubyte, 1)])\n"
     ]
    }
   ],
   "source": [
    "from time import time\n",
    "import itertools\n",
    "import warnings\n",
    "\n",
    "import numpy as np\n",
    "import matplotlib.pyplot as plt\n",
    "import seaborn as sns\n",
    "\n",
    "\n",
    "import keras.backend as K\n",
    "from keras.datasets import imdb\n",
    "from keras.models import Sequential\n",
    "from keras.layers import Dropout, Flatten, Dense, Embedding, LSTM, TimeDistributed, Conv1D, MaxPooling1D\n",
    "from keras.constraints import max_norm, unit_norm\n",
    "from keras.preprocessing.sequence import pad_sequences\n",
    "from sklearn.metrics import confusion_matrix, classification_report, roc_curve, auc, accuracy_score, precision_recall_curve"
   ]
  },
  {
   "cell_type": "code",
   "execution_count": 2,
   "metadata": {},
   "outputs": [],
   "source": [
    "warnings.filterwarnings('ignore')\n",
    "get_ipython().magic(u'matplotlib inline')\n",
    "plt.style.use('ggplot')"
   ]
  },
  {
   "cell_type": "markdown",
   "metadata": {
    "colab_type": "text",
    "id": "Wq4RCyyPSYRp"
   },
   "source": [
    "## Loading the dataset"
   ]
  },
  {
   "cell_type": "code",
   "execution_count": 3,
   "metadata": {
    "colab": {},
    "colab_type": "code",
    "id": "NGCtiXUhSWss"
   },
   "outputs": [],
   "source": [
    "from keras.datasets import imdb\n",
    "\n",
    "vocab_size = 10000 #vocab size\n",
    "\n",
    "(x_train, y_train), (x_test, y_test) = imdb.load_data(num_words=vocab_size) # vocab_size is no.of words to consider from the dataset, ordering based on frequency."
   ]
  },
  {
   "cell_type": "code",
   "execution_count": 4,
   "metadata": {},
   "outputs": [],
   "source": [
    "from keras.preprocessing.sequence import pad_sequences\n",
    "vocab_size = 10000 #vocab size\n",
    "maxlen = 300  #number of word used from each review"
   ]
  },
  {
   "cell_type": "markdown",
   "metadata": {
    "colab_type": "text",
    "id": "qMEsHYrWxdtk"
   },
   "source": [
    "## Train test split"
   ]
  },
  {
   "cell_type": "code",
   "execution_count": 5,
   "metadata": {},
   "outputs": [],
   "source": [
    "#load dataset as a list of ints\n",
    "(train_data, train_labels), (test_data, test_labels) = imdb.load_data(num_words=vocab_size)\n",
    "#make all sequences of the same length\n",
    "train_data = pad_sequences(train_data, maxlen=maxlen)\n",
    "test_data =  pad_sequences(test_data, maxlen=maxlen)\n",
    "\n",
    "train_len = [len(sequence) for sequence in x_train]\n",
    "test_len = [len(sequence) for sequence in x_test]"
   ]
  },
  {
   "cell_type": "code",
   "execution_count": 6,
   "metadata": {
    "scrolled": false
   },
   "outputs": [
    {
     "name": "stdout",
     "output_type": "stream",
     "text": [
      "? ? ? ? ? ? ? ? ? ? ? ? ? ? ? ? ? ? ? ? ? ? ? ? ? ? ? ? ? ? ? ? ? ? ? ? ? ? ? ? ? ? ? ? ? ? ? ? ? ? ? ? ? ? ? ? ? ? ? ? ? ? ? ? ? ? ? ? ? ? ? ? ? ? ? ? ? ? ? ? ? ? ? ? ? ? people forget that there have been several king kong ? ? king kong vs godzilla king kong 1976 they all ripoff one another but yeti stands on its own it only borrows one element from king kong and that is the ? attraction with one female br br the yeti myth is based on bigfoot not like king kong and ? have been fascinated it at one time they did exist but there is no scientific data to prove it br br this movie is hard to find but its worth watching it the first time i watched it was on ? mistress of the dark shows in the early 1980's it sent chills down my spine as a kid especially when the yeti got mad i saw it again around 1 ? on abc about 2 to ? ago seeing it again made me appreciate it more it has some overall good effects for its time and the story involves a mute boy and his dog and an evil businessman person who wants to kill the yeti for his own purposes also the music is pretty cool its very yeti like br br ? ? and the ? creates a great monster like atmosphere br br vote 7 and half out of 10\n",
      "\n",
      "The sentiment for the above review is: Positive\n"
     ]
    }
   ],
   "source": [
    "def interprete_review(sequence):\n",
    "    id_to_word = dict([(value, key) for (key, value) in imdb.get_word_index().items()])\n",
    "    decoded_review = ' '.join([id_to_word.get(idx-3, '?') for idx in sequence])\n",
    "    print(decoded_review)\n",
    "    \n",
    "sentiments = {1: 'Positive', 0: 'Negative'}\n",
    "review_id1 = np.random.choice(train_len)\n",
    "interprete_review(train_data[review_id1])\n",
    "print('\\nThe sentiment for the above review is:', sentiments.get(train_labels[review_id1]))"
   ]
  },
  {
   "cell_type": "markdown",
   "metadata": {
    "colab_type": "text",
    "id": "dybtUgUReCy8"
   },
   "source": [
    "\n",
    "## Build Keras Sequential Model\n",
    "We can think of the Embedding layer as a dicionary that maps a index assigned to a word to a word vector. This layer is very flexible and can be used in a few ways:\n",
    "\n",
    "* The embedding layer can be used at the start of a larger deep learning model. \n",
    "* Also we could load pre-train word embeddings into the embedding layer when we create our model.\n",
    "* Use the embedding layer to train our own word2vec models.\n",
    "\n",
    "The keras embedding layer doesn't require us to onehot encode our words, instead we have to give each word a unqiue intger number as an id. For the imdb dataset we've loaded this has already been done, but if this wasn't the case we could use sklearn [LabelEncoder](http://scikit-learn.org/stable/modules/generated/sklearn.preprocessing.LabelEncoder.html)."
   ]
  },
  {
   "cell_type": "code",
   "execution_count": 7,
   "metadata": {
    "colab": {},
    "colab_type": "code",
    "id": "h0g381XzeCyz"
   },
   "outputs": [
    {
     "name": "stdout",
     "output_type": "stream",
     "text": [
      "x_train : (25000, 1500)\n",
      "x_test  : (25000, 1500)\n"
     ]
    }
   ],
   "source": [
    "maxlen = 1500  #number of word used from each review\n",
    "# maxlen = max([len(sequence) for sequence in np.concatenate([train_data, test_data])])\n",
    "\n",
    "#make all sequences of the same length\n",
    "x_train = pad_sequences(train_data, maxlen=maxlen)\n",
    "x_test =  pad_sequences(test_data, maxlen=maxlen)\n",
    "\n",
    "y_train = train_labels\n",
    "y_test = test_labels\n",
    "\n",
    "print(\"x_train :\", x_train.shape)\n",
    "print(\"x_test  :\", x_test.shape)"
   ]
  },
  {
   "cell_type": "code",
   "execution_count": 8,
   "metadata": {},
   "outputs": [],
   "source": [
    "# Precision-Recall curve\n",
    "def plot_prec_recall_vs_thresh(precisions, recalls, thresholds):\n",
    "    plt.figure(figsize=(10,5))\n",
    "    plt.plot(thresholds, precisions[:-1], 'b--', label='precision')\n",
    "    plt.plot(thresholds, recalls[:-1], 'g--', label = 'recall')\n",
    "    plt.xlabel('Threshold')\n",
    "    plt.legend()"
   ]
  },
  {
   "cell_type": "code",
   "execution_count": 9,
   "metadata": {},
   "outputs": [],
   "source": [
    "# Classification report\n",
    "def classification_summary(y_test, y_pred, y_proba):\n",
    "    print('\\033[1mTesting accuracy:\\033[0m %.2f%%' % (accuracy_score(y_test, y_pred) * 100))\n",
    "    print('_'*80)\n",
    "    print('\\033[1mConfusion matrix:\\033[0m\\n %s' % (confusion_matrix(y_test, y_pred)))\n",
    "    print('_'*80)\n",
    "    print('\\033[1mClassification report:\\033[0m\\n %s' % (classification_report(y_test, y_pred)))\n",
    "    print('_'*80)\n",
    "    print('\\033[1mPrecision-Recall curve\\033[10m')\n",
    "    precision, recall, thresholds = precision_recall_curve(y_test, y_proba)\n",
    "    plot_prec_recall_vs_thresh(precision, recall, thresholds)"
   ]
  },
  {
   "cell_type": "code",
   "execution_count": 10,
   "metadata": {},
   "outputs": [],
   "source": [
    "# Categorical Crossentropy Loss vs Epochs\n",
    "def plt_dynamic(x, vy, ty, ax, colors=['b']):\n",
    "    ax.plot(x, vy, 'b', label=\"Validation Loss\")\n",
    "    ax.plot(x, ty, 'r', label=\"Train Loss\")\n",
    "    plt.legend()\n",
    "    plt.grid()\n",
    "    fig.canvas.draw()"
   ]
  },
  {
   "cell_type": "markdown",
   "metadata": {},
   "source": [
    "\n",
    "### Sequential Model : Embedding + Flatten + Dense + Adam + Sigmoid"
   ]
  },
  {
   "cell_type": "code",
   "execution_count": 11,
   "metadata": {},
   "outputs": [
    {
     "name": "stdout",
     "output_type": "stream",
     "text": [
      "WARNING:tensorflow:From C:\\Users\\smazh\\anaconda3\\lib\\site-packages\\tensorflow\\python\\ops\\nn_impl.py:180: add_dispatch_support.<locals>.wrapper (from tensorflow.python.ops.array_ops) is deprecated and will be removed in a future version.\n",
      "Instructions for updating:\n",
      "Use tf.where in 2.0, which has the same broadcast rule as np.where\n",
      "Model: \"sequential_1\"\n",
      "_________________________________________________________________\n",
      "Layer (type)                 Output Shape              Param #   \n",
      "=================================================================\n",
      "embedding_1 (Embedding)      (None, 1500, 300)         3000000   \n",
      "_________________________________________________________________\n",
      "flatten_1 (Flatten)          (None, 450000)            0         \n",
      "_________________________________________________________________\n",
      "dense_1 (Dense)              (None, 1)                 450001    \n",
      "=================================================================\n",
      "Total params: 3,450,001\n",
      "Trainable params: 3,450,001\n",
      "Non-trainable params: 0\n",
      "_________________________________________________________________\n"
     ]
    }
   ],
   "source": [
    "embedding_dim = 300\n",
    "\n",
    "model = Sequential()\n",
    "model.add(Embedding(input_dim=vocab_size, output_dim=embedding_dim, input_length=maxlen))\n",
    "model.add(Flatten())\n",
    "model.add(Dense(1, activation='sigmoid'))\n",
    "model.compile(optimizer='adam', loss='binary_crossentropy', metrics=['accuracy'])\n",
    "model.summary()"
   ]
  },
  {
   "cell_type": "code",
   "execution_count": 12,
   "metadata": {
    "colab": {},
    "colab_type": "code",
    "id": "TxNDNhrseCzA"
   },
   "outputs": [
    {
     "name": "stdout",
     "output_type": "stream",
     "text": [
      "WARNING:tensorflow:From C:\\Users\\smazh\\anaconda3\\lib\\site-packages\\keras\\backend\\tensorflow_backend.py:422: The name tf.global_variables is deprecated. Please use tf.compat.v1.global_variables instead.\n",
      "\n",
      "Train on 25000 samples, validate on 25000 samples\n",
      "Epoch 1/5\n",
      "25000/25000 [==============================] - 51s 2ms/step - loss: 1.1040 - accuracy: 0.5215 - val_loss: 0.6180 - val_accuracy: 0.7266\n",
      "Epoch 2/5\n",
      "25000/25000 [==============================] - 50s 2ms/step - loss: 0.4104 - accuracy: 0.8519 - val_loss: 0.3189 - val_accuracy: 0.8705\n",
      "Epoch 3/5\n",
      "25000/25000 [==============================] - 50s 2ms/step - loss: 0.2074 - accuracy: 0.9278 - val_loss: 0.2849 - val_accuracy: 0.8796\n",
      "Epoch 4/5\n",
      "25000/25000 [==============================] - 50s 2ms/step - loss: 0.1296 - accuracy: 0.9651 - val_loss: 0.2745 - val_accuracy: 0.8845\n",
      "Epoch 5/5\n",
      "25000/25000 [==============================] - 50s 2ms/step - loss: 0.0783 - accuracy: 0.9866 - val_loss: 0.2800 - val_accuracy: 0.8820\n"
     ]
    }
   ],
   "source": [
    "# Train the model\n",
    "epochs = 5\n",
    "batches = 512\n",
    "start = time()\n",
    "history = model.fit(x_train, y_train, epochs=epochs, batch_size=batches, \n",
    "                    validation_split=0.2, validation_data = (x_test, y_test))"
   ]
  },
  {
   "cell_type": "markdown",
   "metadata": {},
   "source": [
    "#### Analyze Classification Summary"
   ]
  },
  {
   "cell_type": "code",
   "execution_count": 13,
   "metadata": {},
   "outputs": [
    {
     "name": "stdout",
     "output_type": "stream",
     "text": [
      "Test score: 0.28003682378292083\n",
      "Test accuracy: 0.8819599747657776\n"
     ]
    },
    {
     "data": {
      "image/png": "[encoded data removed]",
      "text/plain": [
       "<Figure size 432x288 with 1 Axes>"
      ]
     },
     "metadata": {},
     "output_type": "display_data"
    }
   ],
   "source": [
    "score = model.evaluate(x_test, y_test, verbose=0) \n",
    "print('Test score:', score[0]) \n",
    "print('Test accuracy:', score[1])\n",
    "\n",
    "fig,ax = plt.subplots(1,1)\n",
    "ax.set_xlabel('epoch') ; ax.set_ylabel('Categorical Crossentropy Loss')\n",
    "\n",
    "# list of epoch numbers\n",
    "x = list(range(1,epochs+1))\n",
    "\n",
    "vy = history.history['val_loss']\n",
    "ty = history.history['loss']\n",
    "plt_dynamic(x, vy, ty, ax)"
   ]
  },
  {
   "cell_type": "code",
   "execution_count": 14,
   "metadata": {},
   "outputs": [
    {
     "name": "stdout",
     "output_type": "stream",
     "text": [
      "\u001b[1mTesting accuracy:\u001b[0m 88.20%\n",
      "________________________________________________________________________________\n",
      "\u001b[1mConfusion matrix:\u001b[0m\n",
      " [[11083  1417]\n",
      " [ 1534 10966]]\n",
      "________________________________________________________________________________\n",
      "\u001b[1mClassification report:\u001b[0m\n",
      "               precision    recall  f1-score   support\n",
      "\n",
      "           0       0.88      0.89      0.88     12500\n",
      "           1       0.89      0.88      0.88     12500\n",
      "\n",
      "    accuracy                           0.88     25000\n",
      "   macro avg       0.88      0.88      0.88     25000\n",
      "weighted avg       0.88      0.88      0.88     25000\n",
      "\n",
      "________________________________________________________________________________\n",
      "\u001b[1mPrecision-Recall curve\u001b[10m\n"
     ]
    },
    {
     "data": {
      "image/png": "[encoded data removed]",
      "text/plain": [
       "<Figure size 720x360 with 1 Axes>"
      ]
     },
     "metadata": {},
     "output_type": "display_data"
    }
   ],
   "source": [
    "y_pred = model.predict_classes(x_test)\n",
    "y_proba = model.predict_proba(x_test)\n",
    "classification_summary(y_test, y_pred, y_proba)"
   ]
  },
  {
   "cell_type": "code",
   "execution_count": 15,
   "metadata": {
    "scrolled": false
   },
   "outputs": [
    {
     "name": "stdout",
     "output_type": "stream",
     "text": [
      "runs him over br br the cop quickly starts telling nicole that he's a ? who's lucky to be breathing still yet he strangely doesn't die for quite a while the two of them do some more pointless talking and the all important fact that he has a gun is annoyingly not even mentioned for too long a time when the two of them finally try to use the gun nicole ? wastes most of her bullets ? shooting at a door when the killer was possibly behind it with two bullets left the policeman tells nicole to use one to him she fires one into his mouth and he lays still for a few moments with a ? blown out of his head then he suddenly and inexplicably yells out you missed and she has to shoot him again completely cheap attempt at shock br br nicole finally confronts the fails the movie ends with a scene taking place not long from then with a woman arriving at the now strangely much more active rest stop in the bathroom building she hears nicole crying for help in the closet locked in like tracy was she gets a policeman to go inside and check it but he finds an apparently normal and clean closet the cop leaves thinking he's been tricked a ? nicole is seen coming out from behind some boxes in the closet she would have been easily spotted if the cop had spent all of 10 seconds looking apparently too stupid to have said or done anything when the policeman was there wow br br this movie is apparently the first in a new line of quality direct to dvd movies ? as being too extreme for theaters in reality it's just more cliché b movie garbage\n",
      "\n",
      "The ACTUAL sentiment    :Negative\n",
      "\n",
      "The PREDICTED sentiment :Negative\n"
     ]
    }
   ],
   "source": [
    "# Predict for a random pre-defined review from IMDB dataset\n",
    "review_id = np.random.choice(test_len)\n",
    "\n",
    "interprete_review(test_data[review_id])\n",
    "\n",
    "prediction = model.predict_classes(pad_sequences([test_data[review_id]], maxlen=maxlen))\n",
    "\n",
    "print('\\nThe ACTUAL sentiment    :'+ sentiments.get(test_labels[review_id]))\n",
    "print('\\nThe PREDICTED sentiment :' + sentiments.get(prediction[0][0]))"
   ]
  },
  {
   "cell_type": "markdown",
   "metadata": {
    "colab_type": "text",
    "id": "Igq8Qm8GeCzG"
   },
   "source": [
    "\n",
    "## Retrive the output of each layer in keras for a given single test sample from the trained model you built\n",
    "Let's create a generic method to print the name, size and output of each layer in Keras model."
   ]
  },
  {
   "cell_type": "code",
   "execution_count": 16,
   "metadata": {
    "colab": {},
    "colab_type": "code",
    "id": "0AqOnLa2eCzH"
   },
   "outputs": [],
   "source": [
    "def layer_outs_for_single_instance(model, instance):\n",
    "    outputs = [layer.output for layer in model.layers]                  # all layer outputs\n",
    "    function = K.function([model.input, K.learning_phase()], outputs)   # evaluation function\n",
    "    \n",
    "    if instance.any():\n",
    "        layer_outs = function([np.array([instance,]), 1.])\n",
    "        for idx, out in enumerate(layer_outs):\n",
    "            print('Layer :', idx + 1)\n",
    "            print('Name   :', model.layers[idx].name)\n",
    "            print('Shape : ' + str(out.shape))\n",
    "            print(out)"
   ]
  },
  {
   "cell_type": "code",
   "execution_count": 17,
   "metadata": {
    "scrolled": false
   },
   "outputs": [
    {
     "name": "stdout",
     "output_type": "stream",
     "text": [
      "Layer : 1\n",
      "Name   : embedding_1\n",
      "Shape : (1, 1500, 300)\n",
      "[[[ 1.9481349e-03  1.9192958e-05 -2.7758654e-03 ...  1.9856675e-03\n",
      "   -2.9194236e-03 -1.9796751e-03]\n",
      "  [ 1.9481349e-03  1.9192958e-05 -2.7758654e-03 ...  1.9856675e-03\n",
      "   -2.9194236e-03 -1.9796751e-03]\n",
      "  [ 1.9481349e-03  1.9192958e-05 -2.7758654e-03 ...  1.9856675e-03\n",
      "   -2.9194236e-03 -1.9796751e-03]\n",
      "  ...\n",
      "  [-2.4660781e-02 -6.2079784e-02 -1.7079819e-02 ...  8.7658599e-02\n",
      "   -6.1194096e-02 -1.1752298e-02]\n",
      "  [-2.6563084e-02  1.6203255e-03 -2.0029746e-02 ... -4.1858017e-02\n",
      "   -4.6847623e-02  4.4409204e-02]\n",
      "  [-4.2466153e-03 -2.6367970e-02 -4.4229116e-02 ...  2.9580105e-02\n",
      "   -7.2158100e-03  1.9263087e-02]]]\n",
      "Layer : 2\n",
      "Name   : flatten_1\n",
      "Shape : (1, 450000)\n",
      "[[ 1.9481349e-03  1.9192958e-05 -2.7758654e-03 ...  2.9580105e-02\n",
      "  -7.2158100e-03  1.9263087e-02]]\n",
      "Layer : 3\n",
      "Name   : dense_1\n",
      "Shape : (1, 1)\n",
      "[[0.09005297]]\n"
     ]
    }
   ],
   "source": [
    "layer_outs_for_single_instance(model, x_test[np.random.choice(test_len)])"
   ]
  }
 ],
 "metadata": {
  "accelerator": "GPU",
  "colab": {
   "collapsed_sections": [],
   "name": "SeqNLP_Project1_Questions.ipynb",
   "provenance": [],
   "version": "0.3.2"
  },
  "kernelspec": {
   "display_name": "Python 3",
   "language": "python",
   "name": "python3"
  },
  "language_info": {
   "codemirror_mode": {
    "name": "ipython",
    "version": 3
   },
   "file_extension": ".py",
   "mimetype": "text/x-python",
   "name": "python",
   "nbconvert_exporter": "python",
   "pygments_lexer": "ipython3",
   "version": "3.7.6"
  }
 },
 "nbformat": 4,
 "nbformat_minor": 1
}
